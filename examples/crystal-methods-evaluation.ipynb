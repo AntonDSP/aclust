{
 "metadata": {
  "name": ""
 },
 "nbformat": 3,
 "nbformat_minor": 0,
 "worksheets": [
  {
   "cells": [
    {
     "cell_type": "markdown",
     "metadata": {},
     "source": [
      "Crystal\n",
      "=======\n",
      "\n",
      "*Crystal* is a framework for writing functions that test regions for differential methylation. Or, practically, it is a *DMR* (differentially methylated region) caller. The challenge of DMR calling lies in handling correlated data as we see in DNA methylation.\n",
      "\n",
      "*Crystal* works by generating clusters using [aclust](https://github.com/brentp/aclust) and then testing them against a chosen method. New methods can be implemented easily, but currently, there is:\n",
      "\n",
      "1. GEE: generalized estimating equation using sample as the grouping variable\n",
      "2. Mixed Effect Model: with a random intercept by sample\n",
      "3. Combining P-values: test each site in a region and combine the resulting p-values using the Stouffer-Liptak or Z-score method\n",
      "4. Bump(hunt)ing: A modification of bumphunting that works on local clusters and allows arbitrary metrics (not just the sum of the smoothed coefficients).\n",
      "\n",
      "Methods using Robust regression are also available for the above.\n",
      "\n",
      "Note that these are cleanly implemented in python thanks to the excellent [statsmodels package](https://github.com/statsmodels/statsmodels)\n",
      "\n",
      "Evaluation\n",
      "==========\n",
      "\n",
      "In this document, we evaluate the above methods on a real dataset. We also create data that should serve as true-negatives by shuffling the observed data. In this way, we can evaluate sensitivity by the number of DMR's found for a given $\\alpha$ by the number of DMR's that meet that cutoff in the real dataset. Likewise, we can evaluate the specificity (actually the false positives) by finding the number of DMR's that meet a given cutoff in the shuffled data."
     ]
    },
    {
     "cell_type": "code",
     "collapsed": false,
     "input": [
      "%matplotlib inline\n",
      "\n",
      "import toolshed as ts\n",
      "import numpy as np\n",
      "import pandas as pd\n",
      "\n",
      "from crystal import gee_cluster, mixed_model_cluster, liptak_cluster, zscore_cluster, bump_cluster\n",
      "from crystal import evaluate_method, Feature\n",
      "from aclust import mclust # to create correlated clusters"
     ],
     "language": "python",
     "metadata": {},
     "outputs": [],
     "prompt_number": 2
    },
    {
     "cell_type": "markdown",
     "metadata": {},
     "source": [
      "We need a generator that reads data and generates features to sent to aclust"
     ]
    },
    {
     "cell_type": "code",
     "collapsed": false,
     "input": [
      "def feature_gen(fname):         \n",
      "        for i, toks in enumerate(ts.reader(fname, header=False)):\n",
      "            if i == 0: continue\n",
      "            chrom, pos = toks[0].split(\":\")\n",
      "            yield Feature(chrom, int(pos), map(float, toks[1:]))"
     ],
     "language": "python",
     "metadata": {},
     "outputs": [],
     "prompt_number": 3
    },
    {
     "cell_type": "markdown",
     "metadata": {},
     "source": [
      "Our input data is a methylation matrix (rows of probes and columns of samples). Here, we have encoded the position into the row names, but you can also add these on the fly as you stream over the data."
     ]
    },
    {
     "cell_type": "code",
     "collapsed": false,
     "input": [
      "methylation_file = \"meth.swan.M.txt\"\n",
      "covariates_files = \"meth.clin.txt\""
     ],
     "language": "python",
     "metadata": {},
     "outputs": [],
     "prompt_number": 4
    },
    {
     "cell_type": "code",
     "collapsed": false,
     "input": [
      "%%bash\n",
      "head meth.swan.M.txt | cut -f 1-5 | column -s$'\\t' -t"
     ],
     "language": "python",
     "metadata": {},
     "outputs": [
      {
       "output_type": "stream",
       "stream": "stdout",
       "text": [
        "probe        15-02-005-0  15-02-008-4  15-02-010-7  15-02-011-1\n",
        "chr1:15865   2.548        3.016        2.815        3.110\n",
        "chr1:18827   1.998        1.095        0.955        1.593\n",
        "chr1:29407   -1.622       -1.697       -2.144       -2.422\n",
        "chr1:29425   -0.818       -0.905       -1.024       -0.701\n",
        "chr1:29435   -2.808       -2.615       -2.911       -2.746\n",
        "chr1:68849   1.165        1.640        1.110        0.866\n",
        "chr1:69591   1.724        1.490        1.630        1.598\n",
        "chr1:91550   -2.638       -3.109       -3.182       -3.684\n",
        "chr1:135252  1.969        2.626        2.739        2.207\n"
       ]
      }
     ],
     "prompt_number": 5
    },
    {
     "cell_type": "code",
     "collapsed": false,
     "input": [
      "clust_iter = (c for c in mclust(feature_gen(methylation_file),\n",
      "                                max_dist=400, max_skip=1) if len(c) > 2)\n"
     ],
     "language": "python",
     "metadata": {},
     "outputs": [],
     "prompt_number": 6
    },
    {
     "cell_type": "markdown",
     "metadata": {},
     "source": [
      "Mclust returns an iterator of clusters given an iterator of features. The clusters are have correlated methylation. The clustering is done without knowing the study design so it is unbiased.\n",
      "\n",
      "Each cluster is a list of features from your own feature_gen()"
     ]
    },
    {
     "cell_type": "code",
     "collapsed": false,
     "input": [
      "c = next(clust_iter)\n",
      "[repr(f) for f in c] "
     ],
     "language": "python",
     "metadata": {},
     "outputs": [
      {
       "metadata": {},
       "output_type": "pyout",
       "prompt_number": 7,
       "text": [
        "['Feature(chr1:566570)',\n",
        " 'Feature(chr1:566731)',\n",
        " 'Feature(chr1:567113)',\n",
        " 'Feature(chr1:567206)',\n",
        " 'Feature(chr1:567348)',\n",
        " 'Feature(chr1:567358)',\n",
        " 'Feature(chr1:567501)']"
       ]
      }
     ],
     "prompt_number": 7
    },
    {
     "cell_type": "markdown",
     "metadata": {},
     "source": [
      "Now we need to define our model and read in our covariates"
     ]
    },
    {
     "cell_type": "code",
     "collapsed": false,
     "input": [
      "covs = pd.read_table('meth.clin.txt')\n",
      "covs['id'] = covs['StudyID']\n",
      "formula = \"methylation ~ asthma + age + gender\""
     ],
     "language": "python",
     "metadata": {},
     "outputs": [],
     "prompt_number": 8
    },
    {
     "cell_type": "code",
     "collapsed": false,
     "input": [
      "covs[['asthma', 'age', 'gender']].head()"
     ],
     "language": "python",
     "metadata": {},
     "outputs": [
      {
       "html": [
        "<div style=\"max-height:1000px;max-width:1500px;overflow:auto;\">\n",
        "<table border=\"1\" class=\"dataframe\">\n",
        "  <thead>\n",
        "    <tr style=\"text-align: right;\">\n",
        "      <th></th>\n",
        "      <th>asthma</th>\n",
        "      <th>age</th>\n",
        "      <th>gender</th>\n",
        "    </tr>\n",
        "  </thead>\n",
        "  <tbody>\n",
        "    <tr>\n",
        "      <th>0</th>\n",
        "      <td>  True</td>\n",
        "      <td> 12</td>\n",
        "      <td> Female</td>\n",
        "    </tr>\n",
        "    <tr>\n",
        "      <th>1</th>\n",
        "      <td> False</td>\n",
        "      <td> 12</td>\n",
        "      <td> Female</td>\n",
        "    </tr>\n",
        "    <tr>\n",
        "      <th>2</th>\n",
        "      <td>  True</td>\n",
        "      <td> 10</td>\n",
        "      <td>   Male</td>\n",
        "    </tr>\n",
        "    <tr>\n",
        "      <th>3</th>\n",
        "      <td>  True</td>\n",
        "      <td> 11</td>\n",
        "      <td> Female</td>\n",
        "    </tr>\n",
        "    <tr>\n",
        "      <th>4</th>\n",
        "      <td> False</td>\n",
        "      <td> 11</td>\n",
        "      <td>   Male</td>\n",
        "    </tr>\n",
        "  </tbody>\n",
        "</table>\n",
        "</div>"
       ],
       "metadata": {},
       "output_type": "pyout",
       "prompt_number": 9,
       "text": [
        "  asthma  age  gender\n",
        "0   True   12  Female\n",
        "1  False   12  Female\n",
        "2   True   10    Male\n",
        "3   True   11  Female\n",
        "4  False   11    Male"
       ]
      }
     ],
     "prompt_number": 9
    },
    {
     "cell_type": "markdown",
     "metadata": {},
     "source": [
      "Our analysis will be looking for DMRs related to ?????"
     ]
    },
    {
     "cell_type": "code",
     "collapsed": false,
     "input": [
      "np.random.seed(10)\n",
      "formula = \"methylation ~ asthma + age + gender\"\n",
      "\n",
      "# number of \"true\" and \"false\" DMRs to generate\n",
      "ntrue, nfalse = 200, 200\n",
      "\n",
      "results = []\n",
      "for fn in (bump_cluster, zscore_cluster):\n",
      "    results.append(evaluate_method(clust_iter, covs, formula, 'asthma', fn, \n",
      "        ntrue, nfalse))\n",
      "\n",
      "# for these, we model CpG site as a fixed effect and the sample-id is a random effect.\n",
      "formula = \"methylation ~ asthma + age + gender + CpG\"\n",
      "for fn in (gee_cluster, mixed_model_cluster):\n",
      "    results.append(evaluate_method(clust_iter, covs, formula, 'asthma', fn, \n",
      "        ntrue, nfalse))\n",
      "\n",
      "results = pd.DataFrame(results)\n",
      "# put data in long format\n",
      "results = pd.melt(results,\n",
      "        id_vars=[c for c in results.columns if not ('false' in c or 'true' in c)],\n",
      "        value_vars=[c for c in results.columns if 'false' in c or 'true' in\n",
      "            c], value_name='n_lt_alpha')\n",
      "results['alpha'] = [10**-int(x.split(\"_\")[1]) for x in results['variable']]\n",
      "results['truth'] = [x.split('_')[0] for x in results['variable']]"
     ],
     "language": "python",
     "metadata": {},
     "outputs": [
      {
       "output_type": "stream",
       "stream": "stderr",
       "text": [
        "/usr/local/lib/python2.7/dist-packages/pandas/core/indexing.py:389: SettingWithCopyWarning: A value is trying to be set on a copy of a slice from a DataFrame.\n",
        "Try using .loc[row_index,col_indexer] = value instead\n",
        "  self.obj[item] = s\n",
        "-c:36: SettingWithCopyWarning: A value is trying to be set on a copy of a slice from a DataFrame.\n",
        "Try using .loc[row_index,col_indexer] = value instead\n"
       ]
      }
     ],
     "prompt_number": 10
    },
    {
     "cell_type": "code",
     "collapsed": false,
     "input": [
      "\n",
      "from ggplot import *\n",
      "import pylab as pl\n",
      "\n",
      "import seaborn as sns\n",
      "import matplotlib.pyplot as plt\n",
      "sns.set(style=\"white\", context=\"talk\")\n",
      "\n",
      "r = results[results.alpha < 0.1]\n",
      "fig, axs = plt.subplots(2, 1, figsize=(8, 6), sharex=True)\n",
      "\n",
      "colors = sns.color_palette(\"Set1\", 5)\n",
      "\n",
      "\n",
      "methods = list(r.method.unique())\n",
      "\n",
      "for j, truth in enumerate((\"true\", \"false\")):\n",
      "    shapes = []\n",
      "    for i, m in enumerate(methods):\n",
      "        xx = -np.log10(r.alpha[(r.truth == truth) & (r.method == m)])\n",
      "        y = r.n_lt_alpha[(r.truth == truth) & (r.method == m)]\n",
      "        f = axs[j].bar(left=xx+i/6. - 0.25, height=y, width=0.14, fc=colors[i], ec=colors[i])\n",
      "        shapes.append(f[0])\n",
      "        axs[j].set_xlim(1.5, 7.5)\n",
      "\n",
      "\n",
      "axs[0].legend(shapes, [x.replace(\"_\", \" \").replace(\" cluster\", \"\") for x in methods])\n",
      "axs[1].set_xticks(xx.unique())\n",
      "axs[1].set_xticklabels(['1e-%s' % x for x in range(2, 8)])\n",
      "axs[1].set_xlim(1.5, 7.5)\n",
      "axs[1].set_ylabel('false positives')\n",
      "axs[1].set_xlabel('alpha')\n",
      "axs[0].set_ylabel('true positivies')\n",
      "\n",
      "pl.show()\n",
      "pl.savefig('/tmp/tt.png')\n"
     ],
     "language": "python",
     "metadata": {},
     "outputs": [
      {
       "metadata": {},
       "output_type": "display_data",
       "png": "[encoded data removed]",
       "text": [
        "<matplotlib.figure.Figure at 0x2b4a154069d0>"
       ]
      },
      {
       "metadata": {},
       "output_type": "display_data",
       "text": [
        "<matplotlib.figure.Figure at 0x2b4a150c2050>"
       ]
      }
     ],
     "prompt_number": 85
    },
    {
     "cell_type": "code",
     "collapsed": false,
     "input": [
      "range(2, 8)"
     ],
     "language": "python",
     "metadata": {},
     "outputs": [
      {
       "metadata": {},
       "output_type": "pyout",
       "prompt_number": 79,
       "text": [
        "[2, 3, 4, 5, 6, 7]"
       ]
      }
     ],
     "prompt_number": 79
    },
    {
     "cell_type": "code",
     "collapsed": false,
     "input": [
      "r.alpha"
     ],
     "language": "python",
     "metadata": {},
     "outputs": [
      {
       "metadata": {},
       "output_type": "pyout",
       "prompt_number": 77,
       "text": [
        "8     0.010000\n",
        "9     0.010000\n",
        "10    0.010000\n",
        "11    0.010000\n",
        "12    0.001000\n",
        "13    0.001000\n",
        "14    0.001000\n",
        "15    0.001000\n",
        "16    0.000100\n",
        "17    0.000100\n",
        "18    0.000100\n",
        "19    0.000100\n",
        "20    0.000010\n",
        "21    0.000010\n",
        "22    0.000010\n",
        "23    0.000010\n",
        "24    0.000001\n",
        "25    0.000001\n",
        "26    0.000001\n",
        "27    0.000001\n",
        "28    0.000000\n",
        "29    0.000000\n",
        "30    0.000000\n",
        "31    0.000000\n",
        "40    0.010000\n",
        "41    0.010000\n",
        "42    0.010000\n",
        "43    0.010000\n",
        "44    0.001000\n",
        "45    0.001000\n",
        "46    0.001000\n",
        "47    0.001000\n",
        "48    0.000100\n",
        "49    0.000100\n",
        "50    0.000100\n",
        "51    0.000100\n",
        "52    0.000010\n",
        "53    0.000010\n",
        "54    0.000010\n",
        "55    0.000010\n",
        "56    0.000001\n",
        "57    0.000001\n",
        "58    0.000001\n",
        "59    0.000001\n",
        "60    0.000000\n",
        "61    0.000000\n",
        "62    0.000000\n",
        "63    0.000000\n",
        "Name: alpha, dtype: float64"
       ]
      }
     ],
     "prompt_number": 77
    },
    {
     "cell_type": "code",
     "collapsed": false,
     "input": [],
     "language": "python",
     "metadata": {},
     "outputs": []
    }
   ],
   "metadata": {}
  }
 ]
}